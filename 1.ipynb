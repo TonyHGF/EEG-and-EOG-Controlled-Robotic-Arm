{
 "cells": [
  {
   "cell_type": "code",
   "id": "initial_id",
   "metadata": {
    "collapsed": true,
    "ExecuteTime": {
     "end_time": "2024-07-03T02:05:52.298983Z",
     "start_time": "2024-07-03T02:05:52.281044Z"
    }
   },
   "source": "from pyOpenBCI import OpenBCICyton",
   "outputs": [],
   "execution_count": 4
  },
  {
   "metadata": {
    "ExecuteTime": {
     "end_time": "2024-07-03T02:18:16.144340Z",
     "start_time": "2024-07-03T02:18:16.109798Z"
    }
   },
   "cell_type": "code",
   "source": "# board = OpenBCICyton(port='COM5')",
   "id": "82e52c017f3e82f7",
   "outputs": [
    {
     "ename": "SerialException",
     "evalue": "could not open port 'COM5': FileNotFoundError(2, '系统找不到指定的文件。', None, 2)",
     "output_type": "error",
     "traceback": [
      "\u001B[1;31m---------------------------------------------------------------------------\u001B[0m",
      "\u001B[1;31mSerialException\u001B[0m                           Traceback (most recent call last)",
      "Cell \u001B[1;32mIn[6], line 1\u001B[0m\n\u001B[1;32m----> 1\u001B[0m board \u001B[38;5;241m=\u001B[39m \u001B[43mOpenBCICyton\u001B[49m\u001B[43m(\u001B[49m\u001B[43mport\u001B[49m\u001B[38;5;241;43m=\u001B[39;49m\u001B[38;5;124;43m'\u001B[39;49m\u001B[38;5;124;43mCOM5\u001B[39;49m\u001B[38;5;124;43m'\u001B[39;49m\u001B[43m)\u001B[49m\n",
      "File \u001B[1;32m~\\.conda\\envs\\pytorch\\lib\\site-packages\\pyOpenBCI\\cyton.py:53\u001B[0m, in \u001B[0;36mOpenBCICyton.__init__\u001B[1;34m(self, port, daisy, baud, timeout, max_packets_skipped)\u001B[0m\n\u001B[0;32m     50\u001B[0m     \u001B[38;5;28mself\u001B[39m\u001B[38;5;241m.\u001B[39mboard_type \u001B[38;5;241m=\u001B[39m \u001B[38;5;124m\"\u001B[39m\u001B[38;5;124mCyton\u001B[39m\u001B[38;5;124m\"\u001B[39m\n\u001B[0;32m     52\u001B[0m \u001B[38;5;66;03m# Connecting to the board\u001B[39;00m\n\u001B[1;32m---> 53\u001B[0m \u001B[38;5;28mself\u001B[39m\u001B[38;5;241m.\u001B[39mser \u001B[38;5;241m=\u001B[39m \u001B[43mSerial\u001B[49m\u001B[43m(\u001B[49m\u001B[43mport\u001B[49m\u001B[38;5;241;43m=\u001B[39;49m\u001B[38;5;28;43mself\u001B[39;49m\u001B[38;5;241;43m.\u001B[39;49m\u001B[43mport\u001B[49m\u001B[43m,\u001B[49m\u001B[43m \u001B[49m\u001B[43mbaudrate\u001B[49m\u001B[38;5;241;43m=\u001B[39;49m\u001B[38;5;28;43mself\u001B[39;49m\u001B[38;5;241;43m.\u001B[39;49m\u001B[43mbaud\u001B[49m\u001B[43m,\u001B[49m\u001B[43m \u001B[49m\u001B[43mtimeout\u001B[49m\u001B[38;5;241;43m=\u001B[39;49m\u001B[38;5;28;43mself\u001B[39;49m\u001B[38;5;241;43m.\u001B[39;49m\u001B[43mtimeout\u001B[49m\u001B[43m)\u001B[49m\n\u001B[0;32m     55\u001B[0m \u001B[38;5;28mprint\u001B[39m(\u001B[38;5;124m'\u001B[39m\u001B[38;5;124mSerial established\u001B[39m\u001B[38;5;124m'\u001B[39m)\n\u001B[0;32m     57\u001B[0m \u001B[38;5;66;03m# Perform a soft reset of the board\u001B[39;00m\n",
      "File \u001B[1;32m~\\.conda\\envs\\pytorch\\lib\\site-packages\\serial\\serialwin32.py:33\u001B[0m, in \u001B[0;36mSerial.__init__\u001B[1;34m(self, *args, **kwargs)\u001B[0m\n\u001B[0;32m     31\u001B[0m \u001B[38;5;28mself\u001B[39m\u001B[38;5;241m.\u001B[39m_overlapped_read \u001B[38;5;241m=\u001B[39m \u001B[38;5;28;01mNone\u001B[39;00m\n\u001B[0;32m     32\u001B[0m \u001B[38;5;28mself\u001B[39m\u001B[38;5;241m.\u001B[39m_overlapped_write \u001B[38;5;241m=\u001B[39m \u001B[38;5;28;01mNone\u001B[39;00m\n\u001B[1;32m---> 33\u001B[0m \u001B[38;5;28msuper\u001B[39m(Serial, \u001B[38;5;28mself\u001B[39m)\u001B[38;5;241m.\u001B[39m\u001B[38;5;21m__init__\u001B[39m(\u001B[38;5;241m*\u001B[39margs, \u001B[38;5;241m*\u001B[39m\u001B[38;5;241m*\u001B[39mkwargs)\n",
      "File \u001B[1;32m~\\.conda\\envs\\pytorch\\lib\\site-packages\\serial\\serialutil.py:244\u001B[0m, in \u001B[0;36mSerialBase.__init__\u001B[1;34m(self, port, baudrate, bytesize, parity, stopbits, timeout, xonxoff, rtscts, write_timeout, dsrdtr, inter_byte_timeout, exclusive, **kwargs)\u001B[0m\n\u001B[0;32m    241\u001B[0m     \u001B[38;5;28;01mraise\u001B[39;00m \u001B[38;5;167;01mValueError\u001B[39;00m(\u001B[38;5;124m'\u001B[39m\u001B[38;5;124munexpected keyword arguments: \u001B[39m\u001B[38;5;132;01m{!r}\u001B[39;00m\u001B[38;5;124m'\u001B[39m\u001B[38;5;241m.\u001B[39mformat(kwargs))\n\u001B[0;32m    243\u001B[0m \u001B[38;5;28;01mif\u001B[39;00m port \u001B[38;5;129;01mis\u001B[39;00m \u001B[38;5;129;01mnot\u001B[39;00m \u001B[38;5;28;01mNone\u001B[39;00m:\n\u001B[1;32m--> 244\u001B[0m     \u001B[38;5;28;43mself\u001B[39;49m\u001B[38;5;241;43m.\u001B[39;49m\u001B[43mopen\u001B[49m\u001B[43m(\u001B[49m\u001B[43m)\u001B[49m\n",
      "File \u001B[1;32m~\\.conda\\envs\\pytorch\\lib\\site-packages\\serial\\serialwin32.py:64\u001B[0m, in \u001B[0;36mSerial.open\u001B[1;34m(self)\u001B[0m\n\u001B[0;32m     62\u001B[0m \u001B[38;5;28;01mif\u001B[39;00m \u001B[38;5;28mself\u001B[39m\u001B[38;5;241m.\u001B[39m_port_handle \u001B[38;5;241m==\u001B[39m win32\u001B[38;5;241m.\u001B[39mINVALID_HANDLE_VALUE:\n\u001B[0;32m     63\u001B[0m     \u001B[38;5;28mself\u001B[39m\u001B[38;5;241m.\u001B[39m_port_handle \u001B[38;5;241m=\u001B[39m \u001B[38;5;28;01mNone\u001B[39;00m    \u001B[38;5;66;03m# 'cause __del__ is called anyway\u001B[39;00m\n\u001B[1;32m---> 64\u001B[0m     \u001B[38;5;28;01mraise\u001B[39;00m SerialException(\u001B[38;5;124m\"\u001B[39m\u001B[38;5;124mcould not open port \u001B[39m\u001B[38;5;132;01m{!r}\u001B[39;00m\u001B[38;5;124m: \u001B[39m\u001B[38;5;132;01m{!r}\u001B[39;00m\u001B[38;5;124m\"\u001B[39m\u001B[38;5;241m.\u001B[39mformat(\u001B[38;5;28mself\u001B[39m\u001B[38;5;241m.\u001B[39mportstr, ctypes\u001B[38;5;241m.\u001B[39mWinError()))\n\u001B[0;32m     66\u001B[0m \u001B[38;5;28;01mtry\u001B[39;00m:\n\u001B[0;32m     67\u001B[0m     \u001B[38;5;28mself\u001B[39m\u001B[38;5;241m.\u001B[39m_overlapped_read \u001B[38;5;241m=\u001B[39m win32\u001B[38;5;241m.\u001B[39mOVERLAPPED()\n",
      "\u001B[1;31mSerialException\u001B[0m: could not open port 'COM5': FileNotFoundError(2, '系统找不到指定的文件。', None, 2)"
     ]
    }
   ],
   "execution_count": 6
  },
  {
   "metadata": {
    "ExecuteTime": {
     "end_time": "2024-07-03T02:18:23.219953Z",
     "start_time": "2024-07-03T02:18:23.185219Z"
    }
   },
   "cell_type": "code",
   "source": [
    "from openbci_stream.acquisition import Cyton\n",
    "openbci = Cyton('serial', endpoint='/dev/ttyUSB0', capture_stream=True)"
   ],
   "id": "747d9c5f9126b16a",
   "outputs": [
    {
     "ename": "ModuleNotFoundError",
     "evalue": "No module named 'openbci_stream'",
     "output_type": "error",
     "traceback": [
      "\u001B[1;31m---------------------------------------------------------------------------\u001B[0m",
      "\u001B[1;31mModuleNotFoundError\u001B[0m                       Traceback (most recent call last)",
      "Cell \u001B[1;32mIn[7], line 1\u001B[0m\n\u001B[1;32m----> 1\u001B[0m \u001B[38;5;28;01mfrom\u001B[39;00m \u001B[38;5;21;01mopenbci_stream\u001B[39;00m\u001B[38;5;21;01m.\u001B[39;00m\u001B[38;5;21;01macquisition\u001B[39;00m \u001B[38;5;28;01mimport\u001B[39;00m Cyton\n\u001B[0;32m      2\u001B[0m openbci \u001B[38;5;241m=\u001B[39m Cyton(\u001B[38;5;124m'\u001B[39m\u001B[38;5;124mserial\u001B[39m\u001B[38;5;124m'\u001B[39m, endpoint\u001B[38;5;241m=\u001B[39m\u001B[38;5;124m'\u001B[39m\u001B[38;5;124m/dev/ttyUSB0\u001B[39m\u001B[38;5;124m'\u001B[39m, capture_stream\u001B[38;5;241m=\u001B[39m\u001B[38;5;28;01mTrue\u001B[39;00m)\n",
      "\u001B[1;31mModuleNotFoundError\u001B[0m: No module named 'openbci_stream'"
     ]
    }
   ],
   "execution_count": 7
  },
  {
   "metadata": {},
   "cell_type": "code",
   "outputs": [],
   "execution_count": null,
   "source": "",
   "id": "789fbb87fb26f425"
  }
 ],
 "metadata": {
  "kernelspec": {
   "display_name": "Python 3",
   "language": "python",
   "name": "python3"
  },
  "language_info": {
   "codemirror_mode": {
    "name": "ipython",
    "version": 2
   },
   "file_extension": ".py",
   "mimetype": "text/x-python",
   "name": "python",
   "nbconvert_exporter": "python",
   "pygments_lexer": "ipython2",
   "version": "2.7.6"
  }
 },
 "nbformat": 4,
 "nbformat_minor": 5
}
